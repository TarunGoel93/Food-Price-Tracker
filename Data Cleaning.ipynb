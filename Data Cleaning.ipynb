{
 "cells": [
  {
   "cell_type": "code",
   "execution_count": 3,
   "id": "287ac9e0-14ab-427b-8964-567fa328bc0e",
   "metadata": {},
   "outputs": [],
   "source": [
    "import pandas as pd\n",
    "import numpy as np"
   ]
  },
  {
   "cell_type": "code",
   "execution_count": 5,
   "id": "27d6a24a-b696-48a3-b02e-0b890397ce27",
   "metadata": {},
   "outputs": [
    {
     "name": "stdout",
     "output_type": "stream",
     "text": [
      "      Open  High   Low  Close  Inflation      country ISO3        date\n",
      "0     0.53  0.54  0.53   0.53        NaN  Afghanistan  AFG  01-01-2007\n",
      "1     0.53  0.54  0.53   0.53        NaN  Afghanistan  AFG  01-02-2007\n",
      "2     0.54  0.54  0.53   0.53        NaN  Afghanistan  AFG  01-03-2007\n",
      "3     0.53  0.55  0.53   0.55        NaN  Afghanistan  AFG  01-04-2007\n",
      "4     0.56  0.57  0.56   0.57        NaN  Afghanistan  AFG  01-05-2007\n",
      "...    ...   ...   ...    ...        ...          ...  ...         ...\n",
      "4793  2.74  2.78  2.70   2.75      -0.28  Yemen, Rep.  YEM  01-06-2023\n",
      "4794  2.79  2.83  2.75   2.81      -1.85  Yemen, Rep.  YEM  01-07-2023\n",
      "4795  2.85  2.89  2.81   2.83      -3.17  Yemen, Rep.  YEM  01-08-2023\n",
      "4796  2.86  2.97  2.82   2.97       1.68  Yemen, Rep.  YEM  01-09-2023\n",
      "4797  3.06  3.11  2.98   2.98       3.76  Yemen, Rep.  YEM  01-10-2023\n",
      "\n",
      "[4798 rows x 8 columns]\n"
     ]
    }
   ],
   "source": [
    "data = pd.read_csv(r\"C:\\Users\\Dell\\Downloads\\Intership\\Projects\\Food Price Tracker\\WLD_RTFP_country_2023-10-02.csv\",encoding='latin1')\n",
    "print(data)"
   ]
  },
  {
   "cell_type": "code",
   "execution_count": 7,
   "id": "7cd8fe67-011d-4672-9337-6d3822a723c6",
   "metadata": {},
   "outputs": [
    {
     "data": {
      "text/plain": [
       "(4798, 8)"
      ]
     },
     "execution_count": 7,
     "metadata": {},
     "output_type": "execute_result"
    }
   ],
   "source": [
    "# Check the size of the data\n",
    "data.shape"
   ]
  },
  {
   "cell_type": "code",
   "execution_count": 9,
   "id": "2952efc6-b3f4-444d-8217-3a858537772c",
   "metadata": {},
   "outputs": [
    {
     "name": "stdout",
     "output_type": "stream",
     "text": [
      "      Open  High   Low  Close  Inflation      country ISO3       date  year\n",
      "0     0.53  0.54  0.53   0.53        NaN  Afghanistan  AFG 2007-01-01  2007\n",
      "1     0.53  0.54  0.53   0.53        NaN  Afghanistan  AFG 2007-01-02  2007\n",
      "2     0.54  0.54  0.53   0.53        NaN  Afghanistan  AFG 2007-01-03  2007\n",
      "3     0.53  0.55  0.53   0.55        NaN  Afghanistan  AFG 2007-01-04  2007\n",
      "4     0.56  0.57  0.56   0.57        NaN  Afghanistan  AFG 2007-01-05  2007\n",
      "...    ...   ...   ...    ...        ...          ...  ...        ...   ...\n",
      "4793  2.74  2.78  2.70   2.75      -0.28  Yemen, Rep.  YEM 2023-01-06  2023\n",
      "4794  2.79  2.83  2.75   2.81      -1.85  Yemen, Rep.  YEM 2023-01-07  2023\n",
      "4795  2.85  2.89  2.81   2.83      -3.17  Yemen, Rep.  YEM 2023-01-08  2023\n",
      "4796  2.86  2.97  2.82   2.97       1.68  Yemen, Rep.  YEM 2023-01-09  2023\n",
      "4797  3.06  3.11  2.98   2.98       3.76  Yemen, Rep.  YEM 2023-01-10  2023\n",
      "\n",
      "[4798 rows x 9 columns]\n"
     ]
    }
   ],
   "source": [
    "# Convert the date (data type = object) into year (data type = int)\n",
    "df = pd.DataFrame(data)\n",
    "df['date'] = pd.to_datetime(df['date'])\n",
    "df['year'] = df['date'].dt.year\n",
    "print(df)"
   ]
  },
  {
   "cell_type": "code",
   "execution_count": 11,
   "id": "f827cc3f-f1be-407e-b9d9-c78fcf51b40c",
   "metadata": {},
   "outputs": [
    {
     "data": {
      "text/plain": [
       "Open          64\n",
       "High          64\n",
       "Low           64\n",
       "Close         64\n",
       "Inflation    364\n",
       "country        0\n",
       "ISO3           0\n",
       "date           0\n",
       "year           0\n",
       "dtype: int64"
      ]
     },
     "execution_count": 11,
     "metadata": {},
     "output_type": "execute_result"
    }
   ],
   "source": [
    "df.isnull().sum()"
   ]
  },
  {
   "cell_type": "code",
   "execution_count": 13,
   "id": "f591cec8-4588-4c28-8b78-37878aebaa85",
   "metadata": {},
   "outputs": [
    {
     "data": {
      "text/plain": [
       "Open         0\n",
       "High         0\n",
       "Low          0\n",
       "Close        0\n",
       "Inflation    0\n",
       "country      0\n",
       "ISO3         0\n",
       "date         0\n",
       "year         0\n",
       "dtype: int64"
      ]
     },
     "execution_count": 13,
     "metadata": {},
     "output_type": "execute_result"
    }
   ],
   "source": [
    "## Fill the empty coloumns with its own column mean value\n",
    "numeric_cols = df.select_dtypes(include=[np.number]).columns\n",
    "df[numeric_cols] = df[numeric_cols].fillna(df[numeric_cols].mean())\n",
    "df.isnull().sum()"
   ]
  },
  {
   "cell_type": "code",
   "execution_count": 15,
   "id": "caa4d915-fa1c-4c0c-b0ff-29220a7bc7ac",
   "metadata": {},
   "outputs": [
    {
     "data": {
      "text/plain": [
       "Open         0\n",
       "High         0\n",
       "Low          0\n",
       "Close        0\n",
       "Inflation    0\n",
       "country      0\n",
       "ISO3         0\n",
       "date         0\n",
       "year         0\n",
       "dtype: int64"
      ]
     },
     "execution_count": 15,
     "metadata": {},
     "output_type": "execute_result"
    }
   ],
   "source": [
    "# Again check any Nan Value\n",
    "df.isna().sum()"
   ]
  },
  {
   "cell_type": "code",
   "execution_count": 17,
   "id": "e3184400-c52e-4181-a7e8-1ddaf3bd25b5",
   "metadata": {},
   "outputs": [
    {
     "data": {
      "text/html": [
       "<div>\n",
       "<style scoped>\n",
       "    .dataframe tbody tr th:only-of-type {\n",
       "        vertical-align: middle;\n",
       "    }\n",
       "\n",
       "    .dataframe tbody tr th {\n",
       "        vertical-align: top;\n",
       "    }\n",
       "\n",
       "    .dataframe thead th {\n",
       "        text-align: right;\n",
       "    }\n",
       "</style>\n",
       "<table border=\"1\" class=\"dataframe\">\n",
       "  <thead>\n",
       "    <tr style=\"text-align: right;\">\n",
       "      <th></th>\n",
       "      <th>Open</th>\n",
       "      <th>High</th>\n",
       "      <th>Low</th>\n",
       "      <th>Close</th>\n",
       "      <th>Inflation</th>\n",
       "      <th>country</th>\n",
       "      <th>ISO3</th>\n",
       "      <th>date</th>\n",
       "      <th>year</th>\n",
       "    </tr>\n",
       "  </thead>\n",
       "  <tbody>\n",
       "    <tr>\n",
       "      <th>0</th>\n",
       "      <td>0.53</td>\n",
       "      <td>0.54</td>\n",
       "      <td>0.53</td>\n",
       "      <td>0.53</td>\n",
       "      <td>14.692346</td>\n",
       "      <td>Afghanistan</td>\n",
       "      <td>AFG</td>\n",
       "      <td>2007-01-01</td>\n",
       "      <td>2007</td>\n",
       "    </tr>\n",
       "    <tr>\n",
       "      <th>1</th>\n",
       "      <td>0.53</td>\n",
       "      <td>0.54</td>\n",
       "      <td>0.53</td>\n",
       "      <td>0.53</td>\n",
       "      <td>14.692346</td>\n",
       "      <td>Afghanistan</td>\n",
       "      <td>AFG</td>\n",
       "      <td>2007-01-02</td>\n",
       "      <td>2007</td>\n",
       "    </tr>\n",
       "    <tr>\n",
       "      <th>2</th>\n",
       "      <td>0.54</td>\n",
       "      <td>0.54</td>\n",
       "      <td>0.53</td>\n",
       "      <td>0.53</td>\n",
       "      <td>14.692346</td>\n",
       "      <td>Afghanistan</td>\n",
       "      <td>AFG</td>\n",
       "      <td>2007-01-03</td>\n",
       "      <td>2007</td>\n",
       "    </tr>\n",
       "    <tr>\n",
       "      <th>3</th>\n",
       "      <td>0.53</td>\n",
       "      <td>0.55</td>\n",
       "      <td>0.53</td>\n",
       "      <td>0.55</td>\n",
       "      <td>14.692346</td>\n",
       "      <td>Afghanistan</td>\n",
       "      <td>AFG</td>\n",
       "      <td>2007-01-04</td>\n",
       "      <td>2007</td>\n",
       "    </tr>\n",
       "    <tr>\n",
       "      <th>4</th>\n",
       "      <td>0.56</td>\n",
       "      <td>0.57</td>\n",
       "      <td>0.56</td>\n",
       "      <td>0.57</td>\n",
       "      <td>14.692346</td>\n",
       "      <td>Afghanistan</td>\n",
       "      <td>AFG</td>\n",
       "      <td>2007-01-05</td>\n",
       "      <td>2007</td>\n",
       "    </tr>\n",
       "    <tr>\n",
       "      <th>...</th>\n",
       "      <td>...</td>\n",
       "      <td>...</td>\n",
       "      <td>...</td>\n",
       "      <td>...</td>\n",
       "      <td>...</td>\n",
       "      <td>...</td>\n",
       "      <td>...</td>\n",
       "      <td>...</td>\n",
       "      <td>...</td>\n",
       "    </tr>\n",
       "    <tr>\n",
       "      <th>4793</th>\n",
       "      <td>2.74</td>\n",
       "      <td>2.78</td>\n",
       "      <td>2.70</td>\n",
       "      <td>2.75</td>\n",
       "      <td>-0.280000</td>\n",
       "      <td>Yemen, Rep.</td>\n",
       "      <td>YEM</td>\n",
       "      <td>2023-01-06</td>\n",
       "      <td>2023</td>\n",
       "    </tr>\n",
       "    <tr>\n",
       "      <th>4794</th>\n",
       "      <td>2.79</td>\n",
       "      <td>2.83</td>\n",
       "      <td>2.75</td>\n",
       "      <td>2.81</td>\n",
       "      <td>-1.850000</td>\n",
       "      <td>Yemen, Rep.</td>\n",
       "      <td>YEM</td>\n",
       "      <td>2023-01-07</td>\n",
       "      <td>2023</td>\n",
       "    </tr>\n",
       "    <tr>\n",
       "      <th>4795</th>\n",
       "      <td>2.85</td>\n",
       "      <td>2.89</td>\n",
       "      <td>2.81</td>\n",
       "      <td>2.83</td>\n",
       "      <td>-3.170000</td>\n",
       "      <td>Yemen, Rep.</td>\n",
       "      <td>YEM</td>\n",
       "      <td>2023-01-08</td>\n",
       "      <td>2023</td>\n",
       "    </tr>\n",
       "    <tr>\n",
       "      <th>4796</th>\n",
       "      <td>2.86</td>\n",
       "      <td>2.97</td>\n",
       "      <td>2.82</td>\n",
       "      <td>2.97</td>\n",
       "      <td>1.680000</td>\n",
       "      <td>Yemen, Rep.</td>\n",
       "      <td>YEM</td>\n",
       "      <td>2023-01-09</td>\n",
       "      <td>2023</td>\n",
       "    </tr>\n",
       "    <tr>\n",
       "      <th>4797</th>\n",
       "      <td>3.06</td>\n",
       "      <td>3.11</td>\n",
       "      <td>2.98</td>\n",
       "      <td>2.98</td>\n",
       "      <td>3.760000</td>\n",
       "      <td>Yemen, Rep.</td>\n",
       "      <td>YEM</td>\n",
       "      <td>2023-01-10</td>\n",
       "      <td>2023</td>\n",
       "    </tr>\n",
       "  </tbody>\n",
       "</table>\n",
       "<p>4798 rows × 9 columns</p>\n",
       "</div>"
      ],
      "text/plain": [
       "      Open  High   Low  Close  Inflation      country ISO3       date  year\n",
       "0     0.53  0.54  0.53   0.53  14.692346  Afghanistan  AFG 2007-01-01  2007\n",
       "1     0.53  0.54  0.53   0.53  14.692346  Afghanistan  AFG 2007-01-02  2007\n",
       "2     0.54  0.54  0.53   0.53  14.692346  Afghanistan  AFG 2007-01-03  2007\n",
       "3     0.53  0.55  0.53   0.55  14.692346  Afghanistan  AFG 2007-01-04  2007\n",
       "4     0.56  0.57  0.56   0.57  14.692346  Afghanistan  AFG 2007-01-05  2007\n",
       "...    ...   ...   ...    ...        ...          ...  ...        ...   ...\n",
       "4793  2.74  2.78  2.70   2.75  -0.280000  Yemen, Rep.  YEM 2023-01-06  2023\n",
       "4794  2.79  2.83  2.75   2.81  -1.850000  Yemen, Rep.  YEM 2023-01-07  2023\n",
       "4795  2.85  2.89  2.81   2.83  -3.170000  Yemen, Rep.  YEM 2023-01-08  2023\n",
       "4796  2.86  2.97  2.82   2.97   1.680000  Yemen, Rep.  YEM 2023-01-09  2023\n",
       "4797  3.06  3.11  2.98   2.98   3.760000  Yemen, Rep.  YEM 2023-01-10  2023\n",
       "\n",
       "[4798 rows x 9 columns]"
      ]
     },
     "execution_count": 17,
     "metadata": {},
     "output_type": "execute_result"
    }
   ],
   "source": [
    "df"
   ]
  },
  {
   "cell_type": "code",
   "execution_count": null,
   "id": "ba49d462-e7b2-4c95-bf36-f3cf0f6a80a5",
   "metadata": {},
   "outputs": [],
   "source": []
  }
 ],
 "metadata": {
  "kernelspec": {
   "display_name": "Python 3 (ipykernel)",
   "language": "python",
   "name": "python3"
  },
  "language_info": {
   "codemirror_mode": {
    "name": "ipython",
    "version": 3
   },
   "file_extension": ".py",
   "mimetype": "text/x-python",
   "name": "python",
   "nbconvert_exporter": "python",
   "pygments_lexer": "ipython3",
   "version": "3.12.4"
  }
 },
 "nbformat": 4,
 "nbformat_minor": 5
}
